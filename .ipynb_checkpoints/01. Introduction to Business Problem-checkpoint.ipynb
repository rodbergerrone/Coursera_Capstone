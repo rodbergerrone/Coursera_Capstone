{
 "cells": [
  {
   "cell_type": "markdown",
   "metadata": {},
   "source": [
    "# The Battle of Neighborhoods - Introduction to Business Proposal"
   ]
  },
  {
   "cell_type": "markdown",
   "metadata": {},
   "source": [
    "## by Roger Burek-Bors - November 23, 2020 - Warsaw, Poland "
   ]
  },
  {
   "cell_type": "markdown",
   "metadata": {},
   "source": [
    "### Problem to solve"
   ]
  },
  {
   "cell_type": "markdown",
   "metadata": {},
   "source": [
    "ABC123 is a leading American consulting company based in New York City, Manhattan. ABC123 employs English-speaking personnel, specialized in law, finance, audits, etc.\n",
    "\n",
    "ABC123 wants to explore business opportunities in the Central and Eastern Europe (CEE). ABC123 would like to establish a common office for entire CEE region and move some of current American personnel to the new location. It is expected that the new office will be in the capitol of the European Union member that joined after 2000. The new location must be comparable to Manhattan when it comes to social life (e.g. restaurants and entertainment). Second factor to compare is flight network, especially frequency of direct flights between New York City and particular location, and between analyzed locations themselves, that would lead to selection of an optimal place to run business. Last factor to compare would be: cost of life and presence of English-spoken schools since the US-personnel will be relocated with families.\n",
    "\n",
    "I was tasked to provide a comprehensive analysis that support decision-making process."
   ]
  },
  {
   "cell_type": "markdown",
   "metadata": {},
   "source": [
    "### Locations"
   ]
  },
  {
   "cell_type": "markdown",
   "metadata": {},
   "source": [
    "- Lower Manhattan, New York City (USA)\n",
    "- Warsaw (Poland)\n",
    "- Prague (Czech Republic)\n",
    "- Bratislava (Slovakia)\n",
    "- Budapest (Hungary)\n",
    "- Bucharest (Romania)\n",
    "- Sofia (Bulgaria)\n",
    "- Zagreb (Croatia)\n",
    "\n",
    "I will be comparing Manhattan with each location when it comes to social life. To compare the similarities of two cities, I will be exploring neighborhoods in 5km radius from a city center, segment them, and group them into clusters to find similarities. To be able to do that, I need to cluster data which is a form of unsupervised machine learning: k-means clustering algorithm.\n",
    "\n",
    "Possible candidates for new CEE office will be compared when it comes to flight newtwork, cost of living and presence of English-spoken schools. Manhattan will not take part in this comparision. I will use k-means clustering algorithm if possible."
   ]
  },
  {
   "cell_type": "markdown",
   "metadata": {},
   "source": [
    "### Discussion"
   ]
  },
  {
   "cell_type": "markdown",
   "metadata": {},
   "source": [
    "Outcome of my analysis should be two-dimensional.\n",
    "\n",
    "First dimension will be filled by clusters based on data set collected from Foursquare API. This dimension I am planning to present in Folium as circles related to particular cities.\n",
    "\n",
    "Second dimension will be comprised of flight network, cost of living and international schools access analysis. Challenges I see right now are related to lack of consolidated data in csv for second dimension. Therefore I might be creating dataframe manually. "
   ]
  },
  {
   "cell_type": "markdown",
   "metadata": {},
   "source": [
    "# The end"
   ]
  }
 ],
 "metadata": {
  "kernelspec": {
   "display_name": "Python 3",
   "language": "python",
   "name": "python3"
  },
  "language_info": {
   "codemirror_mode": {
    "name": "ipython",
    "version": 3
   },
   "file_extension": ".py",
   "mimetype": "text/x-python",
   "name": "python",
   "nbconvert_exporter": "python",
   "pygments_lexer": "ipython3",
   "version": "3.7.9"
  }
 },
 "nbformat": 4,
 "nbformat_minor": 4
}
