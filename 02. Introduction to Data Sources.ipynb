{
 "cells": [
  {
   "cell_type": "markdown",
   "metadata": {},
   "source": [
    "# The Battle of Neighborhoods - Introduction to Data Sources"
   ]
  },
  {
   "cell_type": "markdown",
   "metadata": {},
   "source": [
    "## by Roger Burek-Bors - November 23, 2020 - Warsaw, Poland "
   ]
  },
  {
   "cell_type": "markdown",
   "metadata": {},
   "source": [
    "### Data Availability"
   ]
  },
  {
   "cell_type": "markdown",
   "metadata": {},
   "source": [
    "- Foursquare API - to obtain data about venues in 5-km-radius from downtown of Warsaw (Poland), Prague (Czech Republic), Bratislava (Slovakia), Budapest (Hungary), Bucharest (Romania), Sofia (Bulgaria), Zagreb (Croatia), and compare them with New York City, Manhattan (USA)\n",
    "- https://airportdatabase.net/ - to obtain data about flight network and distance to abovementioned cities' downtown\n",
    "- https://www.international-schools-database.com/ - to obtain data about international schools and compare abovementioned cities\n",
    "- https://www.expatistan.com/cost-of-living - to obtain data about cost of living and compare abovementioned cities"
   ]
  },
  {
   "cell_type": "markdown",
   "metadata": {},
   "source": [
    "### Python Libraries to be Used"
   ]
  },
  {
   "cell_type": "markdown",
   "metadata": {},
   "source": [
    "- Requests - to make HTTP requests\n",
    "- Pandas - to create and manipulate dataframes\n",
    "- Folium - to visualize the borough/neighborhoods cluster distribution\n",
    "- Scikit Learn - to perform k-means clustering\n",
    "- Numpy - to build arrays needed for clustering\n",
    "- JSON - to handle JSON files\n",
    "- Matplotlib - to plot data\n",
    "- Geocoder - to retrieve Location Data"
   ]
  },
  {
   "cell_type": "markdown",
   "metadata": {},
   "source": [
    "# The end"
   ]
  }
 ],
 "metadata": {
  "kernelspec": {
   "display_name": "Python 3",
   "language": "python",
   "name": "python3"
  },
  "language_info": {
   "codemirror_mode": {
    "name": "ipython",
    "version": 3
   },
   "file_extension": ".py",
   "mimetype": "text/x-python",
   "name": "python",
   "nbconvert_exporter": "python",
   "pygments_lexer": "ipython3",
   "version": "3.7.9"
  }
 },
 "nbformat": 4,
 "nbformat_minor": 4
}
