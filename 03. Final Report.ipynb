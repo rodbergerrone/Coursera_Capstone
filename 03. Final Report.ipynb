{
 "cells": [
  {
   "cell_type": "markdown",
   "metadata": {},
   "source": [
    "# The Battle of Neighborhoods - Final Report"
   ]
  },
  {
   "cell_type": "markdown",
   "metadata": {},
   "source": [
    "## by Roger Burek-Bors - November 28, 2020 - Warsaw, Poland "
   ]
  },
  {
   "cell_type": "markdown",
   "metadata": {},
   "source": [
    "### Table of Contents"
   ]
  },
  {
   "cell_type": "markdown",
   "metadata": {},
   "source": [
    "1.  <a href=\"###item1\">Introduction</a>\n",
    "2.  <a href=\"###item2\">Data</a>  \n",
    "3.  <a href=\"###item3\">Methodology</a>  \n",
    "4.  <a href=\"###item4\">Results</a>  \n",
    "5.  <a href=\"###item5\">Discussion</a>  \n",
    "6.  <a href=\"###item5\">Conclusion</a>  "
   ]
  },
  {
   "cell_type": "markdown",
   "metadata": {},
   "source": [
    "### Introduction"
   ]
  },
  {
   "cell_type": "markdown",
   "metadata": {},
   "source": [
    "I was tasked to solve following problem and to provide a comprehensive analysis that support decision-making process:\n",
    "\n",
    "_\"ABC123 is a leading American consulting company based in New York City, Manhattan. ABC123 employs English-speaking personnel, specialized in law, finance, audits, etc._\n",
    "\n",
    "_ABC123 wants to explore business opportunities in the Central and Eastern Europe (CEE). ABC123 would like to establish a common office for entire CEE region and move some of current American personnel to the new location. It is expected that the new office will be in the capitol of the European Union member that joined after 2000. The new location must be comparable to Manhattan when it comes to social life (e.g. restaurants and entertainment). Second factor to compare is flight network, especially frequency of direct flights between New York City and particular location, and between analyzed locations themselves, that would lead to selection of an optimal place to run business. Last factor to compare would be: cost of life and presence of English-spoken schools since the US-personnel will be relocated with families.\"_\n",
    "\n",
    "Taking aboce into consideration, I came across with following locations to be analyzed and compared:\n",
    "- Lower Manhattan, New York City (USA)\n",
    "- Warsaw (Poland)\n",
    "- Prague (Czech Republic)\n",
    "- Bratislava (Slovakia)\n",
    "- Budapest (Hungary)\n",
    "- Bucharest (Romania)\n",
    "- Sofia (Bulgaria)\n",
    "- Zagreb (Croatia)\n",
    "\n",
    "![\"Locations dataframe df:\"](otherdata/cities.jpg)\n",
    "\n",
    "Basically, I compared Lower Manhattan with each location when it comes to social life. To compare the similarities of two cities, I explored neighborhoods in 5km radius from a city center, segmented them, and grouped them into clusters to find similarities."
   ]
  },
  {
   "cell_type": "markdown",
   "metadata": {},
   "source": [
    "### Data"
   ]
  },
  {
   "cell_type": "markdown",
   "metadata": {},
   "source": [
    "Following data sources were used in my analysis:\n",
    "- Foursquare API - to obtain data about venues in 5-km-radius from downtown of Warsaw (Poland), Prague (Czech Republic), Bratislava (Slovakia), Budapest (Hungary), Bucharest (Romania), Sofia (Bulgaria), Zagreb (Croatia), and compare them with New York City, Manhattan (USA)\n",
    "- https://airportdatabase.net/ - to obtain data about flight network and distance to abovementioned cities' downtown\n",
    "- https://www.international-schools-database.com/ - to obtain data about international schools and compare abovementioned cities\n",
    "- https://www.expatistan.com/cost-of-living - to obtain data about cost of living and compare abovementioned cities\n",
    "\n",
    "Data collected from Foursquare API led to creation of the following dataframe, consisting of coordinates, clusters and top-10 venues for each city including Lower Manhattan:\n",
    "![\"df\"](otherdata/cities_top10_clusters.jpg)\n",
    "\n",
    "Second dataframe consisting of flight network, cost of living and international schools was compiled manually for each city exluding Lower Manhattan:\n",
    "![\"df2\"](otherdata/cities_part2_clusters.jpg)"
   ]
  },
  {
   "cell_type": "markdown",
   "metadata": {},
   "source": [
    "### Methodology"
   ]
  },
  {
   "cell_type": "markdown",
   "metadata": {},
   "source": [
    "I used k-means clustering algorithm to solve problem, which is considered as one of unsupervised machine learning techniques. The algorithm found patterns and grouped data.\n",
    "\n",
    "k-means clustering is defined by Wikipedia as following:\n",
    "\n",
    "_\"k-means clustering is a method of vector quantization, originally from signal processing, that aims to partition n observations into k clusters in which each observation belongs to the cluster with the nearest mean (cluster centers or cluster centroid), serving as a prototype of the cluster. This results in a partitioning of the data space into Voronoi cells. k-means clustering minimizes within-cluster variances (squared Euclidean distances), but not regular Euclidean distances, which would be the more difficult Weber problem: the mean optimizes squared errors, whereas only the geometric median minimizes Euclidean distances. For instance, better Euclidean solutions can be found using k-medians and k-medoids.\"_\n",
    "\n",
    "k-means clustering was used here either to:\n",
    "- compare the similarities of 8 cities, including Lower Manhattan, after exploration of venues in the cities. This part of analysis was meant to answer which city is similar to Lower Manhattan in terms of social life\n",
    "- compare the similarities of 7 cities, excluding Lower Manhattan, after exploration of flight network, cost of living and presence of English-spoken schools. This part of analysis is to shed light on the best location in terms of doing business, business travels in the region and living with families, including children in school age."
   ]
  },
  {
   "cell_type": "markdown",
   "metadata": {},
   "source": [
    "### Results"
   ]
  },
  {
   "cell_type": "markdown",
   "metadata": {},
   "source": [
    "At the beginning I decided to start with 4 clusters. This approach showed quite a diversity among cities under analysis. Lower Manhattan and Sofia were mainly comparable in terms of social life because of presence of big parks in the 5 km radius. Zagreb seemed to be an outfitter not matching to anybody else.\n",
    "\n",
    "![\"k-mean 4 clusers df\"](otherdata/cities_kmean_4clusters.jpg)\n",
    "\n",
    "\n",
    "I decided to regroup data around 3 clusters. This allowed Zagreb to unite with Warsaw, Prague and Slovakia under one single cluster. However Lower Manhattan was still only close to Sofia when it comes to social life opportunities.\n",
    "\n",
    "![\"k-mean 3 clusers df\"](otherdata/cities_kmean_3clusters.jpg)\n",
    "\n",
    "\n",
    "I did yet another iteration and set up only 2 clusters. It means that there is less diversity. However it made me believe that Budapest and Bucharest are not a good choice for Americans when it comes to social life.\n",
    "\n",
    "![\"k-mean 2 clusers df\"](otherdata/cities_kmean_2clusters.jpg)\n",
    "\n",
    "\n",
    "For second dataframe I applied 3 clusters. K-means algorithm crawled through database with following results when it comes to flights, living and education:\n",
    "-\tWarsaw or Prague – well connected in the region and NYC with good international education system, however renting 85m2 flat is the most expensive\n",
    "-\tSofia or Bucharest – well connected in the region, also with decent international schools, the cheapest when it comes to renting 85m2 flat\n",
    "-\tBudapest or Bratislava or Zagreb – do not provides flight connection to all CEE capitols, less international schools but decent prices for renting 85m2 flat\n",
    "\n",
    "![\"k-mean 3 clusers df2\"](otherdata/cities_part2_clustersmap.jpg)"
   ]
  },
  {
   "cell_type": "markdown",
   "metadata": {},
   "source": [
    "### Discussion"
   ]
  },
  {
   "cell_type": "markdown",
   "metadata": {},
   "source": [
    "First dimension was filled by clusters based on data set collected from Foursquare API. Since data was available via API and a lot of exercises provided throughout module no 9 I had no problem to complete this part of analysis.\n",
    "\n",
    "Second dimension was comprised of flight network, cost of living and international schools access analysis. I had difficulty to find API. Therefore I created dataframe manually. However applying k-means clustering was no challenges. Additionally I broader my knowledge about Folium method called “choropleth” which is a way to present data on a map of countries.\n",
    "\n",
    "So in the end both dimensions were presented on the map with help of Folium library, yet differently."
   ]
  },
  {
   "cell_type": "markdown",
   "metadata": {},
   "source": [
    "### Conclusion"
   ]
  },
  {
   "cell_type": "markdown",
   "metadata": {},
   "source": [
    "Under real circumstances I would advise ABC123 to open common office for CEE region either in Warsaw (Poland) or Prague (Czech Republic) as these cities provides similar social life, are well connected with all analyzed CEE capitals and provide access to the biggest number of international schools. American expats should enjoy working and living there, as well as their spouses and children."
   ]
  },
  {
   "cell_type": "markdown",
   "metadata": {},
   "source": [
    "# The end"
   ]
  }
 ],
 "metadata": {
  "kernelspec": {
   "display_name": "Python 3",
   "language": "python",
   "name": "python3"
  },
  "language_info": {
   "codemirror_mode": {
    "name": "ipython",
    "version": 3
   },
   "file_extension": ".py",
   "mimetype": "text/x-python",
   "name": "python",
   "nbconvert_exporter": "python",
   "pygments_lexer": "ipython3",
   "version": "3.7.9"
  }
 },
 "nbformat": 4,
 "nbformat_minor": 4
}
